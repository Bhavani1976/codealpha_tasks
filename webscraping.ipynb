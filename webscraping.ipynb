{
 "cells": [
  {
   "cell_type": "markdown",
   "id": "f057bf91-7500-49f0-9628-fdc7b03635ef",
   "metadata": {},
   "source": [
    "# **Importing Libraries**"
   ]
  },
  {
   "cell_type": "code",
   "execution_count": 1,
   "id": "0ac4cdf1-7921-4aad-b369-a230b89d2fca",
   "metadata": {},
   "outputs": [],
   "source": [
    "import requests\n",
    "from bs4 import BeautifulSoup\n",
    "import pandas as pd\n"
   ]
  },
  {
   "cell_type": "markdown",
   "id": "30c935ef-b735-4b35-9a5d-af63d4775f34",
   "metadata": {},
   "source": [
    "# **URL of the page to scrape**"
   ]
  },
  {
   "cell_type": "code",
   "execution_count": 2,
   "id": "482a243f-9748-4054-ae9c-96738a194a6c",
   "metadata": {},
   "outputs": [],
   "source": [
    "url ='http://books.toscrape.com/catalogue/page-1.html'\n",
    "\n",
    "headers = {\n",
    "    'User-Agent': 'Mozilla/5.0 (Windows NT 10.0; Win64; x64)'\n",
    "}\n",
    "\n",
    "response = requests.get(url, headers=headers)\n",
    "soup = BeautifulSoup(response.content, 'html.parser')\n",
    "\n",
    "books = soup.select('article.product_pod')\n",
    "\n",
    "book_data = []"
   ]
  },
  {
   "cell_type": "markdown",
   "id": "b3e073a2-16a7-4a0b-a2fa-c4bc203f3c3b",
   "metadata": {},
   "source": [
    "# **Loop through all books on the page**"
   ]
  },
  {
   "cell_type": "code",
   "execution_count": 3,
   "id": "b939c364-be92-4387-83e4-9b30dc386437",
   "metadata": {},
   "outputs": [],
   "source": [
    "for book in books:\n",
    "    title = book.h3.a['title']\n",
    "    price = book.select_one('.price_color').text.strip()\n",
    "    availability = book.select_one('.availability').text.strip()\n",
    "\n",
    "    book_data.append({\n",
    "        'Title': title,\n",
    "        'Price': price,\n",
    "        'Availability': availability\n",
    "    })"
   ]
  },
  {
   "cell_type": "markdown",
   "id": "5c0cfe7b-8b98-40b0-bbb2-02f327fb3720",
   "metadata": {},
   "source": [
    "# **Convert to DataFrame**"
   ]
  },
  {
   "cell_type": "code",
   "execution_count": 5,
   "id": "94e4cb86-e3f5-4f08-8e0d-80c4c00abb0a",
   "metadata": {},
   "outputs": [],
   "source": [
    "df = pd.DataFrame(book_data)"
   ]
  },
  {
   "cell_type": "markdown",
   "id": "e241bc88-1820-42f7-adbf-82bc9a4d1f6a",
   "metadata": {},
   "source": [
    "# **Save to CSV**"
   ]
  },
  {
   "cell_type": "code",
   "execution_count": 6,
   "id": "026fe626-e21a-4e19-b370-cdcaf2747be6",
   "metadata": {},
   "outputs": [
    {
     "name": "stdout",
     "output_type": "stream",
     "text": [
      "Scraping successful! Sample data:\n",
      "                                   Title   Price Availability\n",
      "0                   A Light in the Attic  £51.77     In stock\n",
      "1                     Tipping the Velvet  £53.74     In stock\n",
      "2                             Soumission  £50.10     In stock\n",
      "3                          Sharp Objects  £47.82     In stock\n",
      "4  Sapiens: A Brief History of Humankind  £54.23     In stock\n"
     ]
    }
   ],
   "source": [
    "df.to_csv(\"books_scraped.csv\", index=False)\n",
    "\n",
    "print(\"Scraping successful! Sample data:\")\n",
    "print(df.head())"
   ]
  },
  {
   "cell_type": "code",
   "execution_count": null,
   "id": "ab4fdbe7-6e4a-48b2-b239-03c727f01ab7",
   "metadata": {},
   "outputs": [],
   "source": []
  }
 ],
 "metadata": {
  "kernelspec": {
   "display_name": "Python 3 (ipykernel)",
   "language": "python",
   "name": "python3"
  },
  "language_info": {
   "codemirror_mode": {
    "name": "ipython",
    "version": 3
   },
   "file_extension": ".py",
   "mimetype": "text/x-python",
   "name": "python",
   "nbconvert_exporter": "python",
   "pygments_lexer": "ipython3",
   "version": "3.13.5"
  }
 },
 "nbformat": 4,
 "nbformat_minor": 5
}
